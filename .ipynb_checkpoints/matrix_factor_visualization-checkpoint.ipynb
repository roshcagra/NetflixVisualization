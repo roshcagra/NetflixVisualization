{
 "cells": [
  {
   "cell_type": "code",
   "execution_count": 1,
   "metadata": {
    "collapsed": true
   },
   "outputs": [],
   "source": [
    "import pandas\n",
    "import numpy as np\n",
    "import matplotlib.pyplot as plt"
   ]
  },
  {
   "cell_type": "code",
   "execution_count": 35,
   "metadata": {
    "collapsed": true
   },
   "outputs": [],
   "source": [
    "train_data = np.array(pandas.read_csv('project3data/data.txt', sep='\\t', header=None, names = ['user','movie','rating']))\n",
    "movie_labels = pandas.read_csv('project3data/movies.txt', sep='\\t', header=None, index_col=0, names = ['Movie Title', 'Unknown', 'Action', 'Adventure', 'Animation', 'Childrens', 'Comedy', 'Crime', 'Documentary',\n",
    "'Drama', 'Fantasy', 'Film-Noir', 'Horror', 'Musical', 'Mystery', 'Romance', 'Sci-Fi', 'Thriller', 'War', 'Western'])"
   ]
  },
  {
   "cell_type": "code",
   "execution_count": 36,
   "metadata": {
    "collapsed": false
   },
   "outputs": [],
   "source": [
    "num_users = max(train_data[:,0])\n",
    "num_movies = max(train_data[:,1])"
   ]
  },
  {
   "cell_type": "code",
   "execution_count": 37,
   "metadata": {
    "collapsed": false
   },
   "outputs": [],
   "source": [
    "#Step 1a\n",
    "def get_loss(U, V, dataset):\n",
    "    error = 0.0\n",
    "    for datum in dataset:\n",
    "        i = datum[0] - 1\n",
    "        j = datum[1] - 1\n",
    "        if i >= num_users or j >= num_movies:\n",
    "            continue\n",
    "        y = datum[2]\n",
    "        error += 0.5 * (y - np.dot(U[:,i], V[:,j])) ** 2\n",
    "    return error/len(dataset)\n",
    "\n",
    "def train_step(eta, lam, data, U, V):\n",
    "    for datum in data:\n",
    "        i = datum[0] - 1\n",
    "        j = datum[1] - 1\n",
    "        y = datum[2]\n",
    "\n",
    "        U[:,i] = np.subtract(U[:,i], eta * (np.subtract(lam * U[:,i], V[:,j] * (y - np.dot(U[:,i], V[:,j])))))\n",
    "        V[:,j] = np.subtract(V[:,j], eta * (np.subtract(lam * V[:,j], U[:,i] * (y - np.dot(U[:,i], V[:,j])))))\n",
    "    return U, V\n",
    "    \n",
    "def train(k, lam):\n",
    "    eta = 0.03\n",
    "    U = np.random.rand(k , num_users) - 0.5\n",
    "    V = np.random.rand(k , num_movies) - 0.5\n",
    "    \n",
    "    first_loss = get_loss(U, V, train_data)\n",
    "    \n",
    "    print('First Loss: ' + str(first_loss))\n",
    "    \n",
    "    U, V = train_step(eta, lam, train_data, U, V)\n",
    "    \n",
    "    second_loss = get_loss(U, V, train_data)\n",
    "    first_loss_red = first_loss - second_loss\n",
    "    \n",
    "    print('Second Loss: ' + str(second_loss))\n",
    "    print('First Loss Reduction: ' + str(first_loss_red))\n",
    "    \n",
    "    epsilon = 0.0001\n",
    "    \n",
    "    curr_loss = second_loss\n",
    "    curr_loss_red = first_loss_red\n",
    "    it = 1\n",
    "    while curr_loss_red / first_loss_red > epsilon:\n",
    "        np.random.shuffle(train_data)\n",
    "        U, V = train_step(eta, lam, train_data, U, V)\n",
    "        \n",
    "        prev_loss = curr_loss\n",
    "        curr_loss = get_loss(U, V, train_data)\n",
    "        curr_loss_red = prev_loss - curr_loss\n",
    "        \n",
    "        print('Iteration: ' + str(it))\n",
    "        print('Loss: ' + str(curr_loss))\n",
    "        print('Loss Reduction: ' + str(curr_loss_red))\n",
    "        print('Loss Reduction Ratio: ' + str(curr_loss_red / first_loss_red))\n",
    "        it += 1 \n",
    "        \n",
    "    return U, V\n"
   ]
  },
  {
   "cell_type": "code",
   "execution_count": 38,
   "metadata": {
    "collapsed": false
   },
   "outputs": [
    {
     "name": "stdout",
     "output_type": "stream",
     "text": [
      "First Loss: 6.93552115344\n",
      "Second Loss: 0.494654026611\n",
      "First Loss Reduction: 6.44086712683\n",
      "Iteration: 1\n",
      "Loss: 0.432627619684\n",
      "Loss Reduction: 0.0620264069271\n",
      "Loss Reduction Ratio: 0.00963013297832\n",
      "Iteration: 2\n",
      "Loss: 0.403455665548\n",
      "Loss Reduction: 0.0291719541361\n",
      "Loss Reduction Ratio: 0.00452919670002\n",
      "Iteration: 3\n",
      "Loss: 0.390170624633\n",
      "Loss Reduction: 0.0132850409144\n",
      "Loss Reduction Ratio: 0.00206261682671\n",
      "Iteration: 4\n",
      "Loss: 0.377745669003\n",
      "Loss Reduction: 0.0124249556306\n",
      "Loss Reduction Ratio: 0.0019290811914\n",
      "Iteration: 5\n",
      "Loss: 0.365335134386\n",
      "Loss Reduction: 0.0124105346172\n",
      "Loss Reduction Ratio: 0.00192684220506\n",
      "Iteration: 6\n",
      "Loss: 0.359831740231\n",
      "Loss Reduction: 0.00550339415469\n",
      "Loss Reduction Ratio: 0.000854449260685\n",
      "Iteration: 7\n",
      "Loss: 0.353765883902\n",
      "Loss Reduction: 0.0060658563286\n",
      "Loss Reduction Ratio: 0.000941776349233\n",
      "Iteration: 8\n",
      "Loss: 0.343683779769\n",
      "Loss Reduction: 0.0100821041336\n",
      "Loss Reduction Ratio: 0.00156533335264\n",
      "Iteration: 9\n",
      "Loss: 0.33780641052\n",
      "Loss Reduction: 0.00587736924894\n",
      "Loss Reduction Ratio: 0.000912512109504\n",
      "Iteration: 10\n",
      "Loss: 0.335204604923\n",
      "Loss Reduction: 0.00260180559683\n",
      "Loss Reduction Ratio: 0.000403952689227\n",
      "Iteration: 11\n",
      "Loss: 0.327822202573\n",
      "Loss Reduction: 0.0073824023496\n",
      "Loss Reduction Ratio: 0.00114618143865\n",
      "Iteration: 12\n",
      "Loss: 0.322644941903\n",
      "Loss Reduction: 0.00517726067047\n",
      "Loss Reduction Ratio: 0.000803814233165\n",
      "Iteration: 13\n",
      "Loss: 0.318593751887\n",
      "Loss Reduction: 0.00405119001568\n",
      "Loss Reduction Ratio: 0.000628982082057\n",
      "Iteration: 14\n",
      "Loss: 0.316998200145\n",
      "Loss Reduction: 0.00159555174248\n",
      "Loss Reduction Ratio: 0.000247723126569\n",
      "Iteration: 15\n",
      "Loss: 0.314048380078\n",
      "Loss Reduction: 0.00294982006688\n",
      "Loss Reduction Ratio: 0.000457984927929\n",
      "Iteration: 16\n",
      "Loss: 0.31322608385\n",
      "Loss Reduction: 0.000822296227518\n",
      "Loss Reduction Ratio: 0.000127668559423\n",
      "Iteration: 17\n",
      "Loss: 0.307783882897\n",
      "Loss Reduction: 0.00544220095294\n",
      "Loss Reduction Ratio: 0.000844948489975\n",
      "Iteration: 18\n",
      "Loss: 0.304473174806\n",
      "Loss Reduction: 0.0033107080916\n",
      "Loss Reduction Ratio: 0.000514015896681\n",
      "Iteration: 19\n",
      "Loss: 0.3024898868\n",
      "Loss Reduction: 0.00198328800544\n",
      "Loss Reduction Ratio: 0.000307922515149\n",
      "Iteration: 20\n",
      "Loss: 0.304685586085\n",
      "Loss Reduction: -0.00219569928485\n",
      "Loss Reduction Ratio: -0.00034090119259\n"
     ]
    }
   ],
   "source": [
    "#Step 1a Continued\n",
    "train_U, train_V = train(20, 0.1)"
   ]
  },
  {
   "cell_type": "code",
   "execution_count": 39,
   "metadata": {
    "collapsed": true
   },
   "outputs": [],
   "source": [
    "#Step 2a\n",
    "def mean_center(V, U):\n",
    "    new_V = np.empty(V.shape)\n",
    "    new_U = np.empty(U.shape)\n",
    "    num_features = len(V)\n",
    "    for i in range(num_features):\n",
    "        curr_movie_feature_row = V[i,:]\n",
    "        curr_user_feature_row = U[i,:]\n",
    "        mean = np.mean(curr_movie_feature_row)\n",
    "        new_V[i,:] = curr_movie_feature_row - mean\n",
    "        new_U[i,:] = curr_user_feature_row - mean\n",
    "    return new_V, new_U"
   ]
  },
  {
   "cell_type": "code",
   "execution_count": 41,
   "metadata": {
    "collapsed": false
   },
   "outputs": [],
   "source": [
    "#Step 2a Continued\n",
    "mean_centered_V, mean_centered_U = mean_center(train_V, train_U)"
   ]
  },
  {
   "cell_type": "code",
   "execution_count": 42,
   "metadata": {
    "collapsed": true
   },
   "outputs": [],
   "source": [
    "#Step 2a Continued\n",
    "A, Sigma, B_trans = np.linalg.svd(mean_centered_V)"
   ]
  },
  {
   "cell_type": "code",
   "execution_count": 43,
   "metadata": {
    "collapsed": true
   },
   "outputs": [],
   "source": [
    "#Step 2b\n",
    "best_two_svd = A[:,0:2]"
   ]
  },
  {
   "cell_type": "code",
   "execution_count": 48,
   "metadata": {
    "collapsed": false
   },
   "outputs": [],
   "source": [
    "#Step 2b Continued\n",
    "V_projection = np.dot(best_two_svd.T, mean_centered_V)\n",
    "U_projection = np.dot(best_two_svd.T, mean_centered_U)"
   ]
  },
  {
   "cell_type": "code",
   "execution_count": 68,
   "metadata": {
    "collapsed": false
   },
   "outputs": [
    {
     "data": {
      "image/png": "[encoded data removed]",
      "text/plain": [
       "<matplotlib.figure.Figure at 0x117987850>"
      ]
     },
     "metadata": {},
     "output_type": "display_data"
    }
   ],
   "source": [
    "#Step 2c\n",
    "fig, ax = plt.subplots()\n",
    "ax.axhline(y=0, color='k')\n",
    "ax.axvline(x=0, color='k')\n",
    "plt.scatter(V_projection[0], V_projection[1])\n",
    "plt.show()"
   ]
  },
  {
   "cell_type": "code",
   "execution_count": 49,
   "metadata": {
    "collapsed": false
   },
   "outputs": [
    {
     "data": {
      "text/plain": [
       "array([[ 0.16688787, -0.18644599, -0.24436308, ..., -0.6883804 ,\n",
       "        -0.57968635,  0.04304258],\n",
       "       [-0.57205709, -0.46047436,  0.10177461, ...,  0.8401035 ,\n",
       "        -0.18533563,  0.28809195]])"
      ]
     },
     "execution_count": 49,
     "metadata": {},
     "output_type": "execute_result"
    }
   ],
   "source": []
  },
  {
   "cell_type": "code",
   "execution_count": null,
   "metadata": {
    "collapsed": true
   },
   "outputs": [],
   "source": []
  }
 ],
 "metadata": {
  "kernelspec": {
   "display_name": "Python 2",
   "language": "python",
   "name": "python2"
  },
  "language_info": {
   "codemirror_mode": {
    "name": "ipython",
    "version": 2
   },
   "file_extension": ".py",
   "mimetype": "text/x-python",
   "name": "python",
   "nbconvert_exporter": "python",
   "pygments_lexer": "ipython2",
   "version": "2.7.13"
  }
 },
 "nbformat": 4,
 "nbformat_minor": 2
}
